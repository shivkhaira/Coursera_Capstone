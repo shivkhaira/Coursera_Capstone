{
  "nbformat": 4,
  "nbformat_minor": 0,
  "metadata": {
    "colab": {
      "name": "Report.ipynb",
      "provenance": []
    },
    "kernelspec": {
      "name": "python3",
      "display_name": "Python 3"
    }
  },
  "cells": [
    {
      "cell_type": "markdown",
      "metadata": {
        "id": "nTMOJ0sfImIf",
        "colab_type": "text"
      },
      "source": [
        "# Restaurant in New York"
      ]
    },
    {
      "cell_type": "markdown",
      "metadata": {
        "id": "IV0Ie3kDJPKK",
        "colab_type": "text"
      },
      "source": [
        "\n",
        "\n",
        "---\n",
        "\n"
      ]
    },
    {
      "cell_type": "markdown",
      "metadata": {
        "id": "G2_W8EEJIzCP",
        "colab_type": "text"
      },
      "source": [
        "**Background**\n"
      ]
    },
    {
      "cell_type": "markdown",
      "metadata": {
        "id": "R8UBsvzlI2z0",
        "colab_type": "text"
      },
      "source": [
        "There are number of types of restaurants in New York. If a business needs to open new restaurants in New York. Good knowledge about the Neighbourhoods is required to know about the best location to open a new restaurant of a specific type."
      ]
    },
    {
      "cell_type": "markdown",
      "metadata": {
        "id": "tNaPflRILA41",
        "colab_type": "text"
      },
      "source": [
        "\n",
        "\n",
        "---\n",
        "\n"
      ]
    },
    {
      "cell_type": "markdown",
      "metadata": {
        "id": "WKzByJ44LCxI",
        "colab_type": "text"
      },
      "source": [
        "**Problem**"
      ]
    },
    {
      "cell_type": "markdown",
      "metadata": {
        "id": "fKUR___bLSdp",
        "colab_type": "text"
      },
      "source": [
        "A client wants to open a new Indian restaurant in New York. Client wants to know which is best Neighbourhood to open a new restaurant. Restaurant will have to be located in a area where there is already a demand for Indian Food. So, it is a better choice to open restaurant where there are more Indian restaurant already available."
      ]
    },
    {
      "cell_type": "markdown",
      "metadata": {
        "id": "40OR56dQP0rX",
        "colab_type": "text"
      },
      "source": [
        "\n",
        "\n",
        "---\n",
        "\n"
      ]
    },
    {
      "cell_type": "markdown",
      "metadata": {
        "id": "OlBncTazP7tC",
        "colab_type": "text"
      },
      "source": [
        "## Data Collection"
      ]
    },
    {
      "cell_type": "markdown",
      "metadata": {
        "id": "uGM4AxCdQKGB",
        "colab_type": "text"
      },
      "source": [
        "I will use Foursquare to find locations of restaurants based on longitude and latitudes.\n",
        "Data source:https://cocl.us/new_york_dataset and Foursquare API. These dataset was used to explore various neighbourhoods and each Indian restaurants venues in the neighbourhood."
      ]
    }
  ]
}